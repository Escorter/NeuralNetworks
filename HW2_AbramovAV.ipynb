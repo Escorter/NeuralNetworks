{
 "cells": [
  {
   "cell_type": "markdown",
   "id": "e8daa3af",
   "metadata": {},
   "source": [
    "### Домашняя работа по Уроку 2\n",
    "### Студент: Абрамов А.В."
   ]
  },
  {
   "cell_type": "markdown",
   "id": "16ee5991",
   "metadata": {
    "ExecuteTime": {
     "end_time": "2023-09-16T13:02:03.001996Z",
     "start_time": "2023-09-16T13:02:02.991162Z"
    }
   },
   "source": [
    "## Домашнее задание <a class='anchor' id='hw'>\n",
    "\n",
    "Используем набор примеров fashion-MNIST\n",
    "1. Опишите - какой результат нейросети получен в зависимости от:\n",
    "  - числа нейронов в слое (для 2-х слойной сети),\n",
    "  - числа слоев (2, 3, 5, 10) при близких размерах сети (близкое число тренируемых параметров).\n",
    "  - фиксируйте для тренировочного и тестового набора метрики accuracy.\n",
    "2.  Проверьте работу разных оптимизаторов (SGD, Adam, RMSProp) для одной из моделей п.1. Фиксируйте для тренировочного и тестового набора метрики accuracy.\n",
    "\n",
    "3. Сделайте вывод - что помогло вам улучшить качество классификации в нейросети на тестовом наборе?\n",
    "\n",
    "4. Для одного варианта сети сформируйте матрицу ошибок по классам. Оцените качество модели по каждому классу отдельно (полнота, точность)."
   ]
  },
  {
   "cell_type": "code",
   "execution_count": 23,
   "id": "89efa835",
   "metadata": {
    "ExecuteTime": {
     "end_time": "2023-09-16T13:53:10.620913Z",
     "start_time": "2023-09-16T13:53:10.596979Z"
    }
   },
   "outputs": [],
   "source": [
    "import keras\n",
    "import tensorflow\n",
    "from keras.layers import Dense       # Полносвязный линейный слой\n",
    "from keras.models import Sequential  # Класс последовательности слоев\n",
    "import matplotlib.pyplot as plt\n",
    "from keras.datasets import fashion_mnist\n",
    "from keras import utils\n",
    "import pydot\n",
    "import graphviz\n",
    "import numpy as np"
   ]
  },
  {
   "cell_type": "code",
   "execution_count": 10,
   "id": "6ddbfcfd",
   "metadata": {
    "ExecuteTime": {
     "end_time": "2023-09-16T13:03:50.645126Z",
     "start_time": "2023-09-16T13:03:45.311131Z"
    }
   },
   "outputs": [
    {
     "name": "stdout",
     "output_type": "stream",
     "text": [
      "Downloading data from https://storage.googleapis.com/tensorflow/tf-keras-datasets/train-labels-idx1-ubyte.gz\n",
      "29515/29515 [==============================] - 0s 1us/step\n",
      "Downloading data from https://storage.googleapis.com/tensorflow/tf-keras-datasets/train-images-idx3-ubyte.gz\n",
      "26421880/26421880 [==============================] - 3s 0us/step\n",
      "Downloading data from https://storage.googleapis.com/tensorflow/tf-keras-datasets/t10k-labels-idx1-ubyte.gz\n",
      "5148/5148 [==============================] - 0s 0s/step\n",
      "Downloading data from https://storage.googleapis.com/tensorflow/tf-keras-datasets/t10k-images-idx3-ubyte.gz\n",
      "4422102/4422102 [==============================] - 1s 0us/step\n",
      "(60000, 28, 28) (10000, 28, 28)\n",
      "(60000,)\n"
     ]
    }
   ],
   "source": [
    "(X_train, y_train_labels), (X_test, y_test_labels) = fashion_mnist.load_data()\n",
    "\n",
    "print(X_train.shape, X_test.shape)\n",
    "print(y_train_labels.shape)"
   ]
  },
  {
   "cell_type": "code",
   "execution_count": 13,
   "id": "d259b02a",
   "metadata": {
    "ExecuteTime": {
     "end_time": "2023-09-16T13:04:25.552750Z",
     "start_time": "2023-09-16T13:04:25.414098Z"
    }
   },
   "outputs": [
    {
     "name": "stdout",
     "output_type": "stream",
     "text": [
      "Label is 0\n"
     ]
    },
    {
     "data": {
      "image/png": "[encoded data removed]",
      "text/plain": [
       "<Figure size 640x480 with 1 Axes>"
      ]
     },
     "metadata": {},
     "output_type": "display_data"
    }
   ],
   "source": [
    "ind = np.random.randint(0, X_train.shape[0])\n",
    "plt.imshow(X_train[ind], cmap='gray')\n",
    "print(f'Label is {y_train_labels[ind]}')"
   ]
  },
  {
   "cell_type": "code",
   "execution_count": 16,
   "id": "6176f53b",
   "metadata": {
    "ExecuteTime": {
     "end_time": "2023-09-16T13:06:55.712685Z",
     "start_time": "2023-09-16T13:06:55.694302Z"
    }
   },
   "outputs": [
    {
     "data": {
      "text/plain": [
       "(0, 255)"
      ]
     },
     "execution_count": 16,
     "metadata": {},
     "output_type": "execute_result"
    }
   ],
   "source": [
    "X_train.min(), X_train.max()"
   ]
  },
  {
   "cell_type": "code",
   "execution_count": 18,
   "id": "fb0a4c03",
   "metadata": {
    "ExecuteTime": {
     "end_time": "2023-09-16T13:41:21.500032Z",
     "start_time": "2023-09-16T13:41:21.349251Z"
    }
   },
   "outputs": [
    {
     "data": {
      "text/plain": [
       "(0.0, 1.0)"
      ]
     },
     "execution_count": 18,
     "metadata": {},
     "output_type": "execute_result"
    }
   ],
   "source": [
    "# Нормировка\n",
    "X_train = X_train / 255.0\n",
    "X_test = X_test / 255.0\n",
    "X_train.min(), X_train.max()"
   ]
  },
  {
   "cell_type": "code",
   "execution_count": 19,
   "id": "a7fc7483",
   "metadata": {
    "ExecuteTime": {
     "end_time": "2023-09-16T13:41:54.208211Z",
     "start_time": "2023-09-16T13:41:54.197240Z"
    }
   },
   "outputs": [
    {
     "data": {
      "text/plain": [
       "((60000, 784), (10000, 784))"
      ]
     },
     "execution_count": 19,
     "metadata": {},
     "output_type": "execute_result"
    }
   ],
   "source": [
    "# Вытягивание признаков в вектор\n",
    "X_train = X_train.reshape((-1, 28 * 28))\n",
    "X_test = X_test.reshape((-1, 28 * 28))\n",
    "\n",
    "X_train.shape, X_test.shape"
   ]
  },
  {
   "cell_type": "code",
   "execution_count": 25,
   "id": "e0e578f6",
   "metadata": {
    "ExecuteTime": {
     "end_time": "2023-09-16T13:55:41.416598Z",
     "start_time": "2023-09-16T13:55:41.396927Z"
    }
   },
   "outputs": [
    {
     "data": {
      "text/plain": [
       "array([[0., 0., 0., 0., 0., 0., 0., 0., 0., 1.],\n",
       "       [1., 0., 0., 0., 0., 0., 0., 0., 0., 0.],\n",
       "       [1., 0., 0., 0., 0., 0., 0., 0., 0., 0.],\n",
       "       [0., 0., 0., 1., 0., 0., 0., 0., 0., 0.],\n",
       "       [1., 0., 0., 0., 0., 0., 0., 0., 0., 0.]], dtype=float32)"
      ]
     },
     "execution_count": 25,
     "metadata": {},
     "output_type": "execute_result"
    }
   ],
   "source": [
    "# Целевые значения в бинарный вид\n",
    "y_train = utils.to_categorical(y_train_labels)\n",
    "y_test = utils.to_categorical(y_test_labels)\n",
    "\n",
    "y_train[:5]"
   ]
  },
  {
   "cell_type": "markdown",
   "id": "624921dc",
   "metadata": {},
   "source": [
    "### Начинаем обучать модели с различными параметрами\n",
    "### Этап 1: 2-хслойная модель с 8, 32, 128 нейронами во внутреннем слое\n",
    "#### Для всех них примем: epochs=5, batch_size=200"
   ]
  },
  {
   "cell_type": "code",
   "execution_count": 59,
   "id": "473be2bd",
   "metadata": {
    "ExecuteTime": {
     "end_time": "2023-09-16T14:27:23.627367Z",
     "start_time": "2023-09-16T14:27:23.597446Z"
    }
   },
   "outputs": [
    {
     "name": "stdout",
     "output_type": "stream",
     "text": [
      "Model: \"sequential_3\"\n",
      "_________________________________________________________________\n",
      " Layer (type)                Output Shape              Param #   \n",
      "=================================================================\n",
      " dense_6 (Dense)             (None, 8)                 6280      \n",
      "                                                                 \n",
      " dense_7 (Dense)             (None, 10)                90        \n",
      "                                                                 \n",
      "=================================================================\n",
      "Total params: 6370 (24.88 KB)\n",
      "Trainable params: 6370 (24.88 KB)\n",
      "Non-trainable params: 0 (0.00 Byte)\n",
      "_________________________________________________________________\n"
     ]
    }
   ],
   "source": [
    "# Модель: 2 слоя, внутренний слой - 8 нейронов\n",
    "\n",
    "model = Sequential([\n",
    "    Dense(8, input_shape=(28 * 28,), activation='relu'),\n",
    "    Dense(10, activation='sigmoid')\n",
    "])\n",
    "\n",
    "model.summary()"
   ]
  },
  {
   "cell_type": "code",
   "execution_count": 60,
   "id": "b947a83d",
   "metadata": {
    "ExecuteTime": {
     "end_time": "2023-09-16T14:27:28.478153Z",
     "start_time": "2023-09-16T14:27:28.468180Z"
    }
   },
   "outputs": [],
   "source": [
    "model.compile(loss='categorical_crossentropy', optimizer='SGD', metrics=['accuracy'])"
   ]
  },
  {
   "cell_type": "code",
   "execution_count": 61,
   "id": "e4abd9f1",
   "metadata": {
    "ExecuteTime": {
     "end_time": "2023-09-16T14:27:31.623298Z",
     "start_time": "2023-09-16T14:27:29.485168Z"
    }
   },
   "outputs": [
    {
     "name": "stdout",
     "output_type": "stream",
     "text": [
      "Epoch 1/5\n",
      "300/300 [==============================] - 1s 1ms/step - loss: 1.8485 - accuracy: 0.4000 - val_loss: 1.4126 - val_accuracy: 0.5669\n",
      "Epoch 2/5\n",
      "300/300 [==============================] - 0s 1ms/step - loss: 1.0903 - accuracy: 0.6667 - val_loss: 0.9048 - val_accuracy: 0.7002\n",
      "Epoch 3/5\n",
      "300/300 [==============================] - 0s 1ms/step - loss: 0.8188 - accuracy: 0.7255 - val_loss: 0.7766 - val_accuracy: 0.7299\n",
      "Epoch 4/5\n",
      "300/300 [==============================] - 0s 1ms/step - loss: 0.7302 - accuracy: 0.7522 - val_loss: 0.7171 - val_accuracy: 0.7502\n",
      "Epoch 5/5\n",
      "300/300 [==============================] - 0s 1ms/step - loss: 0.6799 - accuracy: 0.7693 - val_loss: 0.6785 - val_accuracy: 0.7623\n"
     ]
    }
   ],
   "source": [
    "history = model.fit(X_train, y_train,\n",
    "                    epochs=5,\n",
    "                    batch_size=200,\n",
    "                    verbose=1,\n",
    "                    validation_data=(X_test, y_test)\n",
    "                    )"
   ]
  },
  {
   "cell_type": "code",
   "execution_count": 62,
   "id": "12ef5ec6",
   "metadata": {
    "ExecuteTime": {
     "end_time": "2023-09-16T14:27:36.695006Z",
     "start_time": "2023-09-16T14:27:36.685032Z"
    }
   },
   "outputs": [],
   "source": [
    "history.history['val_accuracy']\n",
    "val_acc_2l_8n = history.history['val_accuracy']"
   ]
  },
  {
   "cell_type": "code",
   "execution_count": 63,
   "id": "850aef06",
   "metadata": {
    "ExecuteTime": {
     "end_time": "2023-09-16T14:27:38.480121Z",
     "start_time": "2023-09-16T14:27:38.452193Z"
    }
   },
   "outputs": [
    {
     "name": "stdout",
     "output_type": "stream",
     "text": [
      "Model: \"sequential_4\"\n",
      "_________________________________________________________________\n",
      " Layer (type)                Output Shape              Param #   \n",
      "=================================================================\n",
      " dense_8 (Dense)             (None, 32)                25120     \n",
      "                                                                 \n",
      " dense_9 (Dense)             (None, 10)                330       \n",
      "                                                                 \n",
      "=================================================================\n",
      "Total params: 25450 (99.41 KB)\n",
      "Trainable params: 25450 (99.41 KB)\n",
      "Non-trainable params: 0 (0.00 Byte)\n",
      "_________________________________________________________________\n"
     ]
    }
   ],
   "source": [
    "# Модель: 2 слоя, внутренний слой - 32 нейрона\n",
    "\n",
    "model = Sequential([\n",
    "    Dense(32, input_shape=(28 * 28,), activation='relu'),\n",
    "    Dense(10, activation='sigmoid')\n",
    "])\n",
    "\n",
    "model.summary()"
   ]
  },
  {
   "cell_type": "code",
   "execution_count": 64,
   "id": "3d8f49ee",
   "metadata": {
    "ExecuteTime": {
     "end_time": "2023-09-16T14:27:40.837162Z",
     "start_time": "2023-09-16T14:27:40.820182Z"
    }
   },
   "outputs": [],
   "source": [
    "model.compile(loss='categorical_crossentropy', optimizer='SGD', metrics=['accuracy'])"
   ]
  },
  {
   "cell_type": "code",
   "execution_count": 65,
   "id": "e8a6f2a4",
   "metadata": {
    "ExecuteTime": {
     "end_time": "2023-09-16T14:27:44.575833Z",
     "start_time": "2023-09-16T14:27:42.333192Z"
    }
   },
   "outputs": [
    {
     "name": "stdout",
     "output_type": "stream",
     "text": [
      "Epoch 1/5\n",
      "300/300 [==============================] - 1s 2ms/step - loss: 1.4646 - accuracy: 0.5271 - val_loss: 1.0062 - val_accuracy: 0.6844\n",
      "Epoch 2/5\n",
      "300/300 [==============================] - 0s 1ms/step - loss: 0.8660 - accuracy: 0.7252 - val_loss: 0.7932 - val_accuracy: 0.7322\n",
      "Epoch 3/5\n",
      "300/300 [==============================] - 0s 1ms/step - loss: 0.7302 - accuracy: 0.7637 - val_loss: 0.7066 - val_accuracy: 0.7612\n",
      "Epoch 4/5\n",
      "300/300 [==============================] - 0s 1ms/step - loss: 0.6624 - accuracy: 0.7834 - val_loss: 0.6556 - val_accuracy: 0.7759\n",
      "Epoch 5/5\n",
      "300/300 [==============================] - 0s 1ms/step - loss: 0.6192 - accuracy: 0.7970 - val_loss: 0.6229 - val_accuracy: 0.7863\n"
     ]
    }
   ],
   "source": [
    "history = model.fit(X_train, y_train,\n",
    "                    epochs=5,\n",
    "                    batch_size=200,\n",
    "                    verbose=1,\n",
    "                    validation_data=(X_test, y_test)\n",
    "                    )"
   ]
  },
  {
   "cell_type": "code",
   "execution_count": 66,
   "id": "19989d78",
   "metadata": {
    "ExecuteTime": {
     "end_time": "2023-09-16T14:27:46.561194Z",
     "start_time": "2023-09-16T14:27:46.556180Z"
    }
   },
   "outputs": [],
   "source": [
    "history.history['val_accuracy']\n",
    "val_acc_2l_32n = history.history['val_accuracy']"
   ]
  },
  {
   "cell_type": "code",
   "execution_count": 68,
   "id": "000d04b7",
   "metadata": {
    "ExecuteTime": {
     "end_time": "2023-09-16T14:34:04.020663Z",
     "start_time": "2023-09-16T14:34:03.981022Z"
    }
   },
   "outputs": [
    {
     "name": "stdout",
     "output_type": "stream",
     "text": [
      "Model: \"sequential_5\"\n",
      "_________________________________________________________________\n",
      " Layer (type)                Output Shape              Param #   \n",
      "=================================================================\n",
      " dense_10 (Dense)            (None, 128)               100480    \n",
      "                                                                 \n",
      " dense_11 (Dense)            (None, 10)                1290      \n",
      "                                                                 \n",
      "=================================================================\n",
      "Total params: 101770 (397.54 KB)\n",
      "Trainable params: 101770 (397.54 KB)\n",
      "Non-trainable params: 0 (0.00 Byte)\n",
      "_________________________________________________________________\n"
     ]
    }
   ],
   "source": [
    "# Модель: 2 слоя, внутренний слой - 128 нейронов\n",
    "\n",
    "model = Sequential([\n",
    "    Dense(128, input_shape=(28 * 28,), activation='relu'),\n",
    "    Dense(10, activation='sigmoid')\n",
    "])\n",
    "\n",
    "model.summary()"
   ]
  },
  {
   "cell_type": "code",
   "execution_count": 69,
   "id": "18c46d55",
   "metadata": {
    "ExecuteTime": {
     "end_time": "2023-09-16T14:35:41.505018Z",
     "start_time": "2023-09-16T14:35:41.493047Z"
    }
   },
   "outputs": [],
   "source": [
    "model.compile(loss='categorical_crossentropy', optimizer='SGD', metrics=['accuracy'])"
   ]
  },
  {
   "cell_type": "code",
   "execution_count": 70,
   "id": "1d42a791",
   "metadata": {
    "ExecuteTime": {
     "end_time": "2023-09-16T14:36:05.717159Z",
     "start_time": "2023-09-16T14:36:03.181080Z"
    }
   },
   "outputs": [
    {
     "name": "stdout",
     "output_type": "stream",
     "text": [
      "Epoch 1/5\n",
      "300/300 [==============================] - 1s 2ms/step - loss: 1.1965 - accuracy: 0.6450 - val_loss: 0.8571 - val_accuracy: 0.7220\n",
      "Epoch 2/5\n",
      "300/300 [==============================] - 0s 1ms/step - loss: 0.7589 - accuracy: 0.7588 - val_loss: 0.7134 - val_accuracy: 0.7639\n",
      "Epoch 3/5\n",
      "300/300 [==============================] - 0s 1ms/step - loss: 0.6620 - accuracy: 0.7860 - val_loss: 0.6511 - val_accuracy: 0.7840\n",
      "Epoch 4/5\n",
      "300/300 [==============================] - 0s 1ms/step - loss: 0.6107 - accuracy: 0.8007 - val_loss: 0.6131 - val_accuracy: 0.7951\n",
      "Epoch 5/5\n",
      "300/300 [==============================] - 0s 1ms/step - loss: 0.5770 - accuracy: 0.8106 - val_loss: 0.5891 - val_accuracy: 0.8025\n"
     ]
    }
   ],
   "source": [
    "history = model.fit(X_train, y_train,\n",
    "                    epochs=5,\n",
    "                    batch_size=200,\n",
    "                    verbose=1,\n",
    "                    validation_data=(X_test, y_test)\n",
    "                    )"
   ]
  },
  {
   "cell_type": "code",
   "execution_count": 71,
   "id": "0882bb6f",
   "metadata": {
    "ExecuteTime": {
     "end_time": "2023-09-16T14:36:35.906235Z",
     "start_time": "2023-09-16T14:36:35.900251Z"
    }
   },
   "outputs": [],
   "source": [
    "history.history['val_accuracy']\n",
    "val_acc_2l_128n = history.history['val_accuracy']"
   ]
  },
  {
   "cell_type": "markdown",
   "id": "f025be73",
   "metadata": {},
   "source": [
    "### Анализ полученных значений метрики"
   ]
  },
  {
   "cell_type": "code",
   "execution_count": 72,
   "id": "325e39c8",
   "metadata": {
    "ExecuteTime": {
     "end_time": "2023-09-16T14:37:02.395452Z",
     "start_time": "2023-09-16T14:37:02.212996Z"
    }
   },
   "outputs": [
    {
     "data": {
      "image/png": "[encoded data removed]",
      "text/plain": [
       "<Figure size 640x480 with 1 Axes>"
      ]
     },
     "metadata": {},
     "output_type": "display_data"
    }
   ],
   "source": [
    "# Графическое сравнение точности на валидационных данных разных параметров модели: \n",
    "\n",
    "axeX=[1,2,3,4,5]\n",
    "\n",
    "plt.plot(axeX,val_acc_2l_8n, label='2 layers, 8 hidden neurons')\n",
    "plt.plot(axeX,val_acc_2l_32n, label='2 layers, 32 hidden neurons')\n",
    "plt.plot(axeX,val_acc_2l_128n, label='2 layers, 128 hidden neurons')\n",
    "\n",
    "plt.xlabel('Epoch')\n",
    "plt.ylabel('Validation accuracy')\n",
    "plt.legend()\n",
    "plt.grid()"
   ]
  },
  {
   "cell_type": "markdown",
   "id": "3f235d58",
   "metadata": {
    "ExecuteTime": {
     "end_time": "2023-09-16T14:22:52.034547Z",
     "start_time": "2023-09-16T14:22:52.028563Z"
    }
   },
   "source": [
    "#### Вывод: наглядно видно, что при повышении число нейронов во внутреннем слое (при неизменных остальных параметрах модели), точность предсказания выше на всех эпохах (прогонах)."
   ]
  },
  {
   "cell_type": "markdown",
   "id": "2448a9ad",
   "metadata": {},
   "source": [
    "### Этап 2: 2-х, 3-х, 5-ти, 10-тислойная модель с 64 нейронами во внутреннем слое\n",
    "#### Для всех них примем: epochs=5, batch_size=200"
   ]
  },
  {
   "cell_type": "code",
   "execution_count": 73,
   "id": "a4db64c9",
   "metadata": {
    "ExecuteTime": {
     "end_time": "2023-09-16T14:47:24.380652Z",
     "start_time": "2023-09-16T14:47:24.348737Z"
    }
   },
   "outputs": [
    {
     "name": "stdout",
     "output_type": "stream",
     "text": [
      "Model: \"sequential_6\"\n",
      "_________________________________________________________________\n",
      " Layer (type)                Output Shape              Param #   \n",
      "=================================================================\n",
      " dense_12 (Dense)            (None, 64)                50240     \n",
      "                                                                 \n",
      " dense_13 (Dense)            (None, 10)                650       \n",
      "                                                                 \n",
      "=================================================================\n",
      "Total params: 50890 (198.79 KB)\n",
      "Trainable params: 50890 (198.79 KB)\n",
      "Non-trainable params: 0 (0.00 Byte)\n",
      "_________________________________________________________________\n"
     ]
    }
   ],
   "source": [
    "# Модель: 2 слоя, внутренний слой - 64 нейрона\n",
    "\n",
    "model = Sequential([\n",
    "    Dense(64, input_shape=(28 * 28,), activation='relu'),\n",
    "    Dense(10, activation='sigmoid')\n",
    "])\n",
    "\n",
    "model.summary()"
   ]
  },
  {
   "cell_type": "code",
   "execution_count": 74,
   "id": "96dde8da",
   "metadata": {
    "ExecuteTime": {
     "end_time": "2023-09-16T14:47:31.270699Z",
     "start_time": "2023-09-16T14:47:31.252733Z"
    }
   },
   "outputs": [],
   "source": [
    "model.compile(loss='categorical_crossentropy', optimizer='SGD', metrics=['accuracy'])"
   ]
  },
  {
   "cell_type": "code",
   "execution_count": 75,
   "id": "671b52c1",
   "metadata": {
    "ExecuteTime": {
     "end_time": "2023-09-16T14:47:49.892540Z",
     "start_time": "2023-09-16T14:47:47.180792Z"
    }
   },
   "outputs": [
    {
     "name": "stdout",
     "output_type": "stream",
     "text": [
      "Epoch 1/5\n",
      "300/300 [==============================] - 1s 2ms/step - loss: 1.3180 - accuracy: 0.5979 - val_loss: 0.9218 - val_accuracy: 0.6944\n",
      "Epoch 2/5\n",
      "300/300 [==============================] - 0s 1ms/step - loss: 0.8004 - accuracy: 0.7411 - val_loss: 0.7486 - val_accuracy: 0.7511\n",
      "Epoch 3/5\n",
      "300/300 [==============================] - 0s 1ms/step - loss: 0.6860 - accuracy: 0.7775 - val_loss: 0.6739 - val_accuracy: 0.7752\n",
      "Epoch 4/5\n",
      "300/300 [==============================] - 0s 1ms/step - loss: 0.6273 - accuracy: 0.7957 - val_loss: 0.6293 - val_accuracy: 0.7882\n",
      "Epoch 5/5\n",
      "300/300 [==============================] - 0s 1ms/step - loss: 0.5899 - accuracy: 0.8061 - val_loss: 0.6004 - val_accuracy: 0.7955\n"
     ]
    }
   ],
   "source": [
    "history = model.fit(X_train, y_train,\n",
    "                    epochs=5,\n",
    "                    batch_size=200,\n",
    "                    verbose=1,\n",
    "                    validation_data=(X_test, y_test)\n",
    "                    )"
   ]
  },
  {
   "cell_type": "code",
   "execution_count": 76,
   "id": "3a796b8e",
   "metadata": {
    "ExecuteTime": {
     "end_time": "2023-09-16T14:48:25.524724Z",
     "start_time": "2023-09-16T14:48:25.516740Z"
    }
   },
   "outputs": [],
   "source": [
    "history.history['val_accuracy']\n",
    "val_acc_2l_64n = history.history['val_accuracy']"
   ]
  },
  {
   "cell_type": "code",
   "execution_count": 78,
   "id": "a8efd48f",
   "metadata": {
    "ExecuteTime": {
     "end_time": "2023-09-16T14:52:33.814280Z",
     "start_time": "2023-09-16T14:52:33.780371Z"
    }
   },
   "outputs": [
    {
     "name": "stdout",
     "output_type": "stream",
     "text": [
      "Model: \"sequential_7\"\n",
      "_________________________________________________________________\n",
      " Layer (type)                Output Shape              Param #   \n",
      "=================================================================\n",
      " dense_14 (Dense)            (None, 64)                50240     \n",
      "                                                                 \n",
      " dense_15 (Dense)            (None, 64)                4160      \n",
      "                                                                 \n",
      " dense_16 (Dense)            (None, 10)                650       \n",
      "                                                                 \n",
      "=================================================================\n",
      "Total params: 55050 (215.04 KB)\n",
      "Trainable params: 55050 (215.04 KB)\n",
      "Non-trainable params: 0 (0.00 Byte)\n",
      "_________________________________________________________________\n"
     ]
    }
   ],
   "source": [
    "# Модель: 3 слоя, внутренние слои - по 64 нейрона\n",
    "\n",
    "model = Sequential([\n",
    "    Dense(64, input_shape=(28 * 28,), activation='relu'),\n",
    "    Dense(64, activation='relu'),\n",
    "    Dense(10, activation='sigmoid')\n",
    "])\n",
    "\n",
    "model.summary()"
   ]
  },
  {
   "cell_type": "code",
   "execution_count": 79,
   "id": "78f6434c",
   "metadata": {
    "ExecuteTime": {
     "end_time": "2023-09-16T14:52:55.276285Z",
     "start_time": "2023-09-16T14:52:55.260327Z"
    }
   },
   "outputs": [],
   "source": [
    "model.compile(loss='categorical_crossentropy', optimizer='SGD', metrics=['accuracy'])"
   ]
  },
  {
   "cell_type": "code",
   "execution_count": 80,
   "id": "79df65e9",
   "metadata": {
    "ExecuteTime": {
     "end_time": "2023-09-16T14:53:10.008079Z",
     "start_time": "2023-09-16T14:53:07.204621Z"
    }
   },
   "outputs": [
    {
     "name": "stdout",
     "output_type": "stream",
     "text": [
      "Epoch 1/5\n",
      "300/300 [==============================] - 1s 2ms/step - loss: 1.4676 - accuracy: 0.5472 - val_loss: 0.9809 - val_accuracy: 0.6664\n",
      "Epoch 2/5\n",
      "300/300 [==============================] - 0s 1ms/step - loss: 0.8326 - accuracy: 0.7170 - val_loss: 0.7623 - val_accuracy: 0.7355\n",
      "Epoch 3/5\n",
      "300/300 [==============================] - 0s 1ms/step - loss: 0.6962 - accuracy: 0.7666 - val_loss: 0.6762 - val_accuracy: 0.7730\n",
      "Epoch 4/5\n",
      "300/300 [==============================] - 0s 1ms/step - loss: 0.6263 - accuracy: 0.7922 - val_loss: 0.6221 - val_accuracy: 0.7909\n",
      "Epoch 5/5\n",
      "300/300 [==============================] - 0s 1ms/step - loss: 0.5791 - accuracy: 0.8101 - val_loss: 0.5851 - val_accuracy: 0.8030\n"
     ]
    }
   ],
   "source": [
    "history = model.fit(X_train, y_train,\n",
    "                    epochs=5,\n",
    "                    batch_size=200,\n",
    "                    verbose=1,\n",
    "                    validation_data=(X_test, y_test)\n",
    "                    )"
   ]
  },
  {
   "cell_type": "code",
   "execution_count": 81,
   "id": "6a0afeac",
   "metadata": {
    "ExecuteTime": {
     "end_time": "2023-09-16T14:53:36.329576Z",
     "start_time": "2023-09-16T14:53:36.324590Z"
    }
   },
   "outputs": [],
   "source": [
    "history.history['val_accuracy']\n",
    "val_acc_3l_64n = history.history['val_accuracy']"
   ]
  },
  {
   "cell_type": "code",
   "execution_count": 84,
   "id": "7e51a687",
   "metadata": {
    "ExecuteTime": {
     "end_time": "2023-09-16T14:55:23.374436Z",
     "start_time": "2023-09-16T14:55:23.324568Z"
    }
   },
   "outputs": [
    {
     "name": "stdout",
     "output_type": "stream",
     "text": [
      "Model: \"sequential_8\"\n",
      "_________________________________________________________________\n",
      " Layer (type)                Output Shape              Param #   \n",
      "=================================================================\n",
      " dense_17 (Dense)            (None, 64)                50240     \n",
      "                                                                 \n",
      " dense_18 (Dense)            (None, 64)                4160      \n",
      "                                                                 \n",
      " dense_19 (Dense)            (None, 64)                4160      \n",
      "                                                                 \n",
      " dense_20 (Dense)            (None, 64)                4160      \n",
      "                                                                 \n",
      " dense_21 (Dense)            (None, 10)                650       \n",
      "                                                                 \n",
      "=================================================================\n",
      "Total params: 63370 (247.54 KB)\n",
      "Trainable params: 63370 (247.54 KB)\n",
      "Non-trainable params: 0 (0.00 Byte)\n",
      "_________________________________________________________________\n"
     ]
    }
   ],
   "source": [
    "# Модель: 5 слоев, внутренние слои - по 64 нейрона\n",
    "\n",
    "model = Sequential([\n",
    "    Dense(64, input_shape=(28 * 28,), activation='relu'),\n",
    "    Dense(64, activation='relu'),\n",
    "    Dense(64, activation='relu'),\n",
    "    Dense(64, activation='relu'),\n",
    "    Dense(10, activation='sigmoid')\n",
    "])\n",
    "\n",
    "model.summary()"
   ]
  },
  {
   "cell_type": "code",
   "execution_count": 85,
   "id": "f37aa320",
   "metadata": {
    "ExecuteTime": {
     "end_time": "2023-09-16T14:57:00.898246Z",
     "start_time": "2023-09-16T14:57:00.884284Z"
    }
   },
   "outputs": [],
   "source": [
    "model.compile(loss='categorical_crossentropy', optimizer='SGD', metrics=['accuracy'])"
   ]
  },
  {
   "cell_type": "code",
   "execution_count": 86,
   "id": "20e83bd6",
   "metadata": {
    "ExecuteTime": {
     "end_time": "2023-09-16T14:57:25.834069Z",
     "start_time": "2023-09-16T14:57:22.660535Z"
    }
   },
   "outputs": [
    {
     "name": "stdout",
     "output_type": "stream",
     "text": [
      "Epoch 1/5\n",
      "300/300 [==============================] - 1s 2ms/step - loss: 1.6213 - accuracy: 0.4534 - val_loss: 0.9788 - val_accuracy: 0.6426\n",
      "Epoch 2/5\n",
      "300/300 [==============================] - 0s 2ms/step - loss: 0.8063 - accuracy: 0.7085 - val_loss: 0.7350 - val_accuracy: 0.7349\n",
      "Epoch 3/5\n",
      "300/300 [==============================] - 0s 2ms/step - loss: 0.6671 - accuracy: 0.7656 - val_loss: 0.6461 - val_accuracy: 0.7709\n",
      "Epoch 4/5\n",
      "300/300 [==============================] - 0s 2ms/step - loss: 0.5963 - accuracy: 0.7916 - val_loss: 0.5906 - val_accuracy: 0.7948\n",
      "Epoch 5/5\n",
      "300/300 [==============================] - 1s 2ms/step - loss: 0.5535 - accuracy: 0.8060 - val_loss: 0.5596 - val_accuracy: 0.8029\n"
     ]
    }
   ],
   "source": [
    "history = model.fit(X_train, y_train,\n",
    "                    epochs=5,\n",
    "                    batch_size=200,\n",
    "                    verbose=1,\n",
    "                    validation_data=(X_test, y_test)\n",
    "                    )"
   ]
  },
  {
   "cell_type": "code",
   "execution_count": 87,
   "id": "a022ba46",
   "metadata": {
    "ExecuteTime": {
     "end_time": "2023-09-16T14:57:57.954375Z",
     "start_time": "2023-09-16T14:57:57.948368Z"
    }
   },
   "outputs": [],
   "source": [
    "history.history['val_accuracy']\n",
    "val_acc_5l_64n = history.history['val_accuracy']"
   ]
  },
  {
   "cell_type": "code",
   "execution_count": 90,
   "id": "52c09235",
   "metadata": {
    "ExecuteTime": {
     "end_time": "2023-09-16T15:00:46.278612Z",
     "start_time": "2023-09-16T15:00:46.180874Z"
    }
   },
   "outputs": [
    {
     "name": "stdout",
     "output_type": "stream",
     "text": [
      "Model: \"sequential_9\"\n",
      "_________________________________________________________________\n",
      " Layer (type)                Output Shape              Param #   \n",
      "=================================================================\n",
      " dense_22 (Dense)            (None, 64)                50240     \n",
      "                                                                 \n",
      " dense_23 (Dense)            (None, 64)                4160      \n",
      "                                                                 \n",
      " dense_24 (Dense)            (None, 64)                4160      \n",
      "                                                                 \n",
      " dense_25 (Dense)            (None, 64)                4160      \n",
      "                                                                 \n",
      " dense_26 (Dense)            (None, 64)                4160      \n",
      "                                                                 \n",
      " dense_27 (Dense)            (None, 64)                4160      \n",
      "                                                                 \n",
      " dense_28 (Dense)            (None, 64)                4160      \n",
      "                                                                 \n",
      " dense_29 (Dense)            (None, 64)                4160      \n",
      "                                                                 \n",
      " dense_30 (Dense)            (None, 64)                4160      \n",
      "                                                                 \n",
      " dense_31 (Dense)            (None, 10)                650       \n",
      "                                                                 \n",
      "=================================================================\n",
      "Total params: 84170 (328.79 KB)\n",
      "Trainable params: 84170 (328.79 KB)\n",
      "Non-trainable params: 0 (0.00 Byte)\n",
      "_________________________________________________________________\n"
     ]
    }
   ],
   "source": [
    "# Модель: 10 слоев, внутренние слои - по 64 нейрона\n",
    "\n",
    "model = Sequential([\n",
    "    Dense(64, input_shape=(28 * 28,), activation='relu'),\n",
    "    Dense(64, activation='relu'),\n",
    "    Dense(64, activation='relu'),\n",
    "    Dense(64, activation='relu'),\n",
    "    Dense(64, activation='relu'),\n",
    "    Dense(64, activation='relu'),\n",
    "    Dense(64, activation='relu'),\n",
    "    Dense(64, activation='relu'),\n",
    "    Dense(64, activation='relu'),    \n",
    "    Dense(10, activation='sigmoid')\n",
    "])\n",
    "\n",
    "model.summary()"
   ]
  },
  {
   "cell_type": "code",
   "execution_count": 91,
   "id": "48ea5818",
   "metadata": {
    "ExecuteTime": {
     "end_time": "2023-09-16T15:01:04.730325Z",
     "start_time": "2023-09-16T15:01:04.708385Z"
    }
   },
   "outputs": [],
   "source": [
    "model.compile(loss='categorical_crossentropy', optimizer='SGD', metrics=['accuracy'])"
   ]
  },
  {
   "cell_type": "code",
   "execution_count": 92,
   "id": "0a8e8a62",
   "metadata": {
    "ExecuteTime": {
     "end_time": "2023-09-16T15:01:22.967555Z",
     "start_time": "2023-09-16T15:01:18.669051Z"
    }
   },
   "outputs": [
    {
     "name": "stdout",
     "output_type": "stream",
     "text": [
      "Epoch 1/5\n",
      "300/300 [==============================] - 1s 3ms/step - loss: 2.2672 - accuracy: 0.1718 - val_loss: 2.1719 - val_accuracy: 0.2375\n",
      "Epoch 2/5\n",
      "300/300 [==============================] - 1s 2ms/step - loss: 1.6102 - accuracy: 0.4006 - val_loss: 1.0780 - val_accuracy: 0.5761\n",
      "Epoch 3/5\n",
      "300/300 [==============================] - 1s 2ms/step - loss: 0.9426 - accuracy: 0.6185 - val_loss: 0.8377 - val_accuracy: 0.6581\n",
      "Epoch 4/5\n",
      "300/300 [==============================] - 1s 2ms/step - loss: 0.7857 - accuracy: 0.6823 - val_loss: 0.7431 - val_accuracy: 0.7137\n",
      "Epoch 5/5\n",
      "300/300 [==============================] - 1s 2ms/step - loss: 0.7013 - accuracy: 0.7304 - val_loss: 0.6783 - val_accuracy: 0.7601\n"
     ]
    }
   ],
   "source": [
    "history = model.fit(X_train, y_train,\n",
    "                    epochs=5,\n",
    "                    batch_size=200,\n",
    "                    verbose=1,\n",
    "                    validation_data=(X_test, y_test)\n",
    "                    )"
   ]
  },
  {
   "cell_type": "code",
   "execution_count": 93,
   "id": "70372f1d",
   "metadata": {
    "ExecuteTime": {
     "end_time": "2023-09-16T15:01:47.517931Z",
     "start_time": "2023-09-16T15:01:47.499953Z"
    }
   },
   "outputs": [],
   "source": [
    "history.history['val_accuracy']\n",
    "val_acc_10l_64n = history.history['val_accuracy']"
   ]
  },
  {
   "cell_type": "markdown",
   "id": "132a996c",
   "metadata": {},
   "source": [
    "### Анализ полученных значений метрики"
   ]
  },
  {
   "cell_type": "code",
   "execution_count": 94,
   "id": "8a83a59f",
   "metadata": {
    "ExecuteTime": {
     "end_time": "2023-09-16T15:02:10.741799Z",
     "start_time": "2023-09-16T15:02:10.548317Z"
    }
   },
   "outputs": [
    {
     "data": {
      "image/png": "[encoded data removed]",
      "text/plain": [
       "<Figure size 640x480 with 1 Axes>"
      ]
     },
     "metadata": {},
     "output_type": "display_data"
    }
   ],
   "source": [
    "# Графическое сравнение точности на валидационных данных разных параметров модели: \n",
    "\n",
    "axeX=[1,2,3,4,5]\n",
    "\n",
    "plt.plot(axeX,val_acc_2l_64n, label='2 layers, 64 hidden neurons')\n",
    "plt.plot(axeX,val_acc_3l_64n, label='3 layers, 64 hidden neurons')\n",
    "plt.plot(axeX,val_acc_5l_64n, label='5 layers, 64 hidden neurons')\n",
    "plt.plot(axeX,val_acc_10l_64n, label='10 layers, 64 hidden neurons')\n",
    "\n",
    "plt.xlabel('Epoch')\n",
    "plt.ylabel('Validation accuracy')\n",
    "plt.legend()\n",
    "plt.grid()"
   ]
  },
  {
   "cell_type": "markdown",
   "id": "d3ccb477",
   "metadata": {},
   "source": [
    "#### Вывод: видно, что повышение числа слоев не дает заметного прироста точности на валидационных данных (при неизменных остальных параметрах модели). А при большом кол-ве слое (здесь 10) точность предсказания заметно ниже, что говорит об избыточности слоев для данной задачи."
   ]
  },
  {
   "cell_type": "markdown",
   "id": "2ec5af1e",
   "metadata": {},
   "source": [
    "## Этап 3: 3-хслойная модель с 64 нейронами во внутреннем слое с разными оптимизаторами (SGD, Adam, RMSProp)\n",
    "#### Для всех них примем: epochs=5, batch_size=200"
   ]
  },
  {
   "cell_type": "code",
   "execution_count": 143,
   "id": "c4449754",
   "metadata": {
    "ExecuteTime": {
     "end_time": "2023-09-16T15:45:46.703895Z",
     "start_time": "2023-09-16T15:45:46.659149Z"
    }
   },
   "outputs": [
    {
     "name": "stdout",
     "output_type": "stream",
     "text": [
      "Model: \"sequential_21\"\n",
      "_________________________________________________________________\n",
      " Layer (type)                Output Shape              Param #   \n",
      "=================================================================\n",
      " dense_59 (Dense)            (None, 64)                50240     \n",
      "                                                                 \n",
      " dense_60 (Dense)            (None, 64)                4160      \n",
      "                                                                 \n",
      " dense_61 (Dense)            (None, 10)                650       \n",
      "                                                                 \n",
      "=================================================================\n",
      "Total params: 55050 (215.04 KB)\n",
      "Trainable params: 55050 (215.04 KB)\n",
      "Non-trainable params: 0 (0.00 Byte)\n",
      "_________________________________________________________________\n"
     ]
    }
   ],
   "source": [
    "# Модель: 3 слоя, внутренние слои - по 64 нейрона\n",
    "\n",
    "model = Sequential([\n",
    "    Dense(64, input_shape=(28 * 28,), activation='relu'),\n",
    "    Dense(64, activation='relu'),\n",
    "    Dense(10, activation='sigmoid')\n",
    "])\n",
    "\n",
    "model.summary()"
   ]
  },
  {
   "cell_type": "code",
   "execution_count": 136,
   "id": "31f630ad",
   "metadata": {
    "ExecuteTime": {
     "end_time": "2023-09-16T15:45:03.554383Z",
     "start_time": "2023-09-16T15:45:03.539423Z"
    }
   },
   "outputs": [],
   "source": [
    "model.compile(loss='categorical_crossentropy', optimizer='SGD', metrics=['accuracy'])"
   ]
  },
  {
   "cell_type": "code",
   "execution_count": 137,
   "id": "91318953",
   "metadata": {
    "ExecuteTime": {
     "end_time": "2023-09-16T15:45:07.820403Z",
     "start_time": "2023-09-16T15:45:04.947624Z"
    }
   },
   "outputs": [
    {
     "name": "stdout",
     "output_type": "stream",
     "text": [
      "Epoch 1/5\n",
      "300/300 [==============================] - 1s 2ms/step - loss: 1.3846 - accuracy: 0.5650 - val_loss: 0.9512 - val_accuracy: 0.6703\n",
      "Epoch 2/5\n",
      "300/300 [==============================] - 0s 2ms/step - loss: 0.8285 - accuracy: 0.7134 - val_loss: 0.7641 - val_accuracy: 0.7251\n",
      "Epoch 3/5\n",
      "300/300 [==============================] - 0s 2ms/step - loss: 0.6995 - accuracy: 0.7602 - val_loss: 0.6753 - val_accuracy: 0.7635\n",
      "Epoch 4/5\n",
      "300/300 [==============================] - 0s 2ms/step - loss: 0.6270 - accuracy: 0.7891 - val_loss: 0.6176 - val_accuracy: 0.7870\n",
      "Epoch 5/5\n",
      "300/300 [==============================] - 0s 2ms/step - loss: 0.5801 - accuracy: 0.8053 - val_loss: 0.5843 - val_accuracy: 0.7957\n"
     ]
    }
   ],
   "source": [
    "history = model.fit(X_train, y_train,\n",
    "                    epochs=5,\n",
    "                    batch_size=200,\n",
    "                    verbose=1,\n",
    "                    validation_data=(X_test, y_test)\n",
    "                    )"
   ]
  },
  {
   "cell_type": "code",
   "execution_count": 138,
   "id": "df0e441a",
   "metadata": {
    "ExecuteTime": {
     "end_time": "2023-09-16T15:45:12.279404Z",
     "start_time": "2023-09-16T15:45:12.267409Z"
    }
   },
   "outputs": [],
   "source": [
    "history.history['val_accuracy']\n",
    "val_acc_SGD = history.history['val_accuracy']"
   ]
  },
  {
   "cell_type": "code",
   "execution_count": 140,
   "id": "e6e91192",
   "metadata": {
    "ExecuteTime": {
     "end_time": "2023-09-16T15:45:31.861353Z",
     "start_time": "2023-09-16T15:45:31.843399Z"
    }
   },
   "outputs": [],
   "source": [
    "model.compile(loss='categorical_crossentropy', optimizer='Adam', metrics=['accuracy'])"
   ]
  },
  {
   "cell_type": "code",
   "execution_count": 141,
   "id": "1a2abbeb",
   "metadata": {
    "ExecuteTime": {
     "end_time": "2023-09-16T15:45:37.456325Z",
     "start_time": "2023-09-16T15:45:34.316168Z"
    }
   },
   "outputs": [
    {
     "name": "stdout",
     "output_type": "stream",
     "text": [
      "Epoch 1/5\n",
      "300/300 [==============================] - 1s 2ms/step - loss: 0.6414 - accuracy: 0.7818 - val_loss: 0.4735 - val_accuracy: 0.8346\n",
      "Epoch 2/5\n",
      "300/300 [==============================] - 0s 2ms/step - loss: 0.4137 - accuracy: 0.8531 - val_loss: 0.4226 - val_accuracy: 0.8481\n",
      "Epoch 3/5\n",
      "300/300 [==============================] - 0s 2ms/step - loss: 0.3782 - accuracy: 0.8648 - val_loss: 0.4107 - val_accuracy: 0.8517\n",
      "Epoch 4/5\n",
      "300/300 [==============================] - 0s 2ms/step - loss: 0.3523 - accuracy: 0.8730 - val_loss: 0.3852 - val_accuracy: 0.8649\n",
      "Epoch 5/5\n",
      "300/300 [==============================] - 0s 2ms/step - loss: 0.3352 - accuracy: 0.8787 - val_loss: 0.3841 - val_accuracy: 0.8645\n"
     ]
    }
   ],
   "source": [
    "history = model.fit(X_train, y_train,\n",
    "                    epochs=5,\n",
    "                    batch_size=200,\n",
    "                    verbose=1,\n",
    "                    validation_data=(X_test, y_test)\n",
    "                    )"
   ]
  },
  {
   "cell_type": "code",
   "execution_count": 142,
   "id": "968e5fb4",
   "metadata": {
    "ExecuteTime": {
     "end_time": "2023-09-16T15:45:41.136489Z",
     "start_time": "2023-09-16T15:45:41.124524Z"
    }
   },
   "outputs": [],
   "source": [
    "history.history['val_accuracy']\n",
    "val_acc_Adam = history.history['val_accuracy']"
   ]
  },
  {
   "cell_type": "code",
   "execution_count": 144,
   "id": "c653be9f",
   "metadata": {
    "ExecuteTime": {
     "end_time": "2023-09-16T15:45:54.967336Z",
     "start_time": "2023-09-16T15:45:54.955347Z"
    }
   },
   "outputs": [],
   "source": [
    "model.compile(loss='categorical_crossentropy', optimizer='RMSProp', metrics=['accuracy'])"
   ]
  },
  {
   "cell_type": "code",
   "execution_count": 145,
   "id": "48e0391b",
   "metadata": {
    "ExecuteTime": {
     "end_time": "2023-09-16T15:46:00.409659Z",
     "start_time": "2023-09-16T15:45:57.379612Z"
    }
   },
   "outputs": [
    {
     "name": "stdout",
     "output_type": "stream",
     "text": [
      "Epoch 1/5\n",
      "300/300 [==============================] - 1s 2ms/step - loss: 0.6433 - accuracy: 0.7781 - val_loss: 0.5123 - val_accuracy: 0.8149\n",
      "Epoch 2/5\n",
      "300/300 [==============================] - 0s 2ms/step - loss: 0.4408 - accuracy: 0.8421 - val_loss: 0.4394 - val_accuracy: 0.8422\n",
      "Epoch 3/5\n",
      "300/300 [==============================] - 0s 2ms/step - loss: 0.3887 - accuracy: 0.8591 - val_loss: 0.4136 - val_accuracy: 0.8489\n",
      "Epoch 4/5\n",
      "300/300 [==============================] - 0s 2ms/step - loss: 0.3598 - accuracy: 0.8694 - val_loss: 0.3909 - val_accuracy: 0.8563\n",
      "Epoch 5/5\n",
      "300/300 [==============================] - 0s 2ms/step - loss: 0.3372 - accuracy: 0.8766 - val_loss: 0.4156 - val_accuracy: 0.8451\n"
     ]
    }
   ],
   "source": [
    "history = model.fit(X_train, y_train,\n",
    "                    epochs=5,\n",
    "                    batch_size=200,\n",
    "                    verbose=1,\n",
    "                    validation_data=(X_test, y_test)\n",
    "                    )"
   ]
  },
  {
   "cell_type": "code",
   "execution_count": 146,
   "id": "4b9a108f",
   "metadata": {
    "ExecuteTime": {
     "end_time": "2023-09-16T15:46:04.554366Z",
     "start_time": "2023-09-16T15:46:04.547384Z"
    }
   },
   "outputs": [],
   "source": [
    "history.history['val_accuracy']\n",
    "val_acc_RMSProp = history.history['val_accuracy']"
   ]
  },
  {
   "cell_type": "markdown",
   "id": "9056490c",
   "metadata": {},
   "source": [
    "### Анализ полученных значений метрики"
   ]
  },
  {
   "cell_type": "code",
   "execution_count": 147,
   "id": "55c03830",
   "metadata": {
    "ExecuteTime": {
     "end_time": "2023-09-16T15:46:08.047619Z",
     "start_time": "2023-09-16T15:46:07.851131Z"
    }
   },
   "outputs": [
    {
     "data": {
      "image/png": "[encoded data removed]",
      "text/plain": [
       "<Figure size 640x480 with 1 Axes>"
      ]
     },
     "metadata": {},
     "output_type": "display_data"
    }
   ],
   "source": [
    "# Графическое сравнение точности на валидационных данных разных параметров модели: \n",
    "\n",
    "axeX=[1,2,3,4,5]\n",
    "\n",
    "plt.plot(axeX, val_acc_SGD, label='SGD')\n",
    "plt.plot(axeX, val_acc_Adam, label='Adam')\n",
    "plt.plot(axeX, val_acc_RMSProp, label='RMSProp')\n",
    "\n",
    "plt.xlabel('Epoch')\n",
    "plt.ylabel('Validation accuracy')\n",
    "plt.legend()\n",
    "plt.grid()"
   ]
  },
  {
   "cell_type": "markdown",
   "id": "3c4f0651",
   "metadata": {},
   "source": [
    "#### Вывод: применение оптимизаторов Adam, RMSProp дают более высокую точность на валидационных данных (при неизменных остальных параметрах модели), чем SGD."
   ]
  },
  {
   "cell_type": "markdown",
   "id": "88640082",
   "metadata": {},
   "source": [
    "### Таким образом, улучшить точность на валидационном наборе удалось с помощью повышения числа нейронов во внутреннем слое, а также применения оптимизатора Adam или RMSProp."
   ]
  },
  {
   "cell_type": "code",
   "execution_count": null,
   "id": "b2b991fd",
   "metadata": {},
   "outputs": [],
   "source": []
  }
 ],
 "metadata": {
  "kernelspec": {
   "display_name": "Python 3 (ipykernel)",
   "language": "python",
   "name": "python3"
  },
  "language_info": {
   "codemirror_mode": {
    "name": "ipython",
    "version": 3
   },
   "file_extension": ".py",
   "mimetype": "text/x-python",
   "name": "python",
   "nbconvert_exporter": "python",
   "pygments_lexer": "ipython3",
   "version": "3.9.17"
  },
  "varInspector": {
   "cols": {
    "lenName": 16,
    "lenType": 16,
    "lenVar": 40
   },
   "kernels_config": {
    "python": {
     "delete_cmd_postfix": "",
     "delete_cmd_prefix": "del ",
     "library": "var_list.py",
     "varRefreshCmd": "print(var_dic_list())"
    },
    "r": {
     "delete_cmd_postfix": ") ",
     "delete_cmd_prefix": "rm(",
     "library": "var_list.r",
     "varRefreshCmd": "cat(var_dic_list()) "
    }
   },
   "types_to_exclude": [
    "module",
    "function",
    "builtin_function_or_method",
    "instance",
    "_Feature"
   ],
   "window_display": false
  }
 },
 "nbformat": 4,
 "nbformat_minor": 5
}
